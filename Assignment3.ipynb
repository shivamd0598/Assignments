{
 "cells": [
  {
   "cell_type": "markdown",
   "metadata": {},
   "source": [
    "1.1 Write a Python Program to implement your own myreduce() function which works exactly\n",
    "like Python's built-in function reduce()"
   ]
  },
  {
   "cell_type": "code",
   "execution_count": 13,
   "metadata": {},
   "outputs": [
    {
     "name": "stdout",
     "output_type": "stream",
     "text": [
      "Input: \n",
      "Enter the number: 7\n",
      "Output: \n",
      "List of first n natural numbers are:  [1, 2, 3, 4, 5, 6, 7]\n",
      "Sum of first n natural numbers:  28\n"
     ]
    }
   ],
   "source": [
    "#Own myreduce() function\n",
    "\n",
    "def myreduce(num):\n",
    "    num_lst=list(range(1,num+1))\n",
    "    sum=0\n",
    "    for i in num_lst:\n",
    "        sum += i\n",
    "    \n",
    "    return num_lst,sum\n",
    "\n",
    "print(\"Input: \")\n",
    "num=int(input(\"Enter the number: \"))\n",
    "\n",
    "result=myreduce(num)\n",
    "\n",
    "print(\"Output: \")\n",
    "\n",
    "print(\"List of first n natural numbers are: \", result[0])\n",
    "print(\"Sum of first n natural numbers: \",result[1])\n",
    "\n"
   ]
  },
  {
   "cell_type": "markdown",
   "metadata": {},
   "source": [
    "1.2 Write a Python program to implement your own myfilter() function which works exactly\n",
    "like Python's built-in function filter()"
   ]
  },
  {
   "cell_type": "code",
   "execution_count": 15,
   "metadata": {},
   "outputs": [
    {
     "name": "stdout",
     "output_type": "stream",
     "text": [
      "Input: \n",
      "Enter the number: 7\n",
      "List of first n natural numbers:  [1, 2, 3, 4, 5, 6, 7]\n",
      "List of first n even numbers: [2, 4, 6]\n",
      "List of first n odd numbers:  [1, 3, 5, 7]\n"
     ]
    }
   ],
   "source": [
    "#Own myfilter() function\n",
    "\n",
    "print(\"Input: \")\n",
    "num=int(input(\"Enter the number: \"))\n",
    "\n",
    "\n",
    "def myfilter(num):\n",
    "    num_lst=list(range(1,num+1))\n",
    "    even_lst=[]\n",
    "    odd_lst=[]\n",
    "    \n",
    "    for i in num_lst:\n",
    "        \n",
    "        if i%2==0:\n",
    "            even_lst.append(i)\n",
    "            \n",
    "        else:\n",
    "            odd_lst.append(i)\n",
    "            \n",
    "    return num_lst,even_lst,odd_lst\n",
    "\n",
    "res=myfilter(num)\n",
    "print(\"List of first n natural numbers: \",res[0])\n",
    "print(\"List of first n even numbers:\",res[1])\n",
    "print(\"List of first n odd numbers: \",res[2])"
   ]
  },
  {
   "cell_type": "markdown",
   "metadata": {},
   "source": [
    "2. Implement List comprehensions to produce the following lists.\n",
    "Write List comprehensions to produce the following Lists\n",
    "\n",
    "**['x', 'xx', 'xxx', 'xxxx', 'y', 'yy', 'yyy', 'yyyy', 'z', 'zz', 'zzz', 'zzzz']**\n",
    "\n",
    "**['x', 'y', 'z', 'xx', 'yy', 'zz', 'xxx', 'yyy', 'zzz', 'xxxx', 'yyyy', 'zzzz']**\n",
    "\n",
    "**[[2], [3], [4], [3], [4], [5], [4], [5], [6]]**\n",
    "\n",
    "**[[2, 3, 4, 5], [3, 4, 5, 6],[4, 5, 6, 7], [5, 6, 7, 8]]**\n",
    "\n",
    "**[(1, 1), (2, 1), (3, 1), (1, 2), (2, 2), (3, 2), (1, 3), (2, 3), (3, 3)]**"
   ]
  },
  {
   "cell_type": "code",
   "execution_count": 23,
   "metadata": {},
   "outputs": [
    {
     "name": "stdout",
     "output_type": "stream",
     "text": [
      "['x', 'xx', 'xxx', 'xxxx', 'y', 'yy', 'yyy', 'yyyy', 'z', 'zz', 'zzz', 'zzzz']\n",
      "['x', 'y', 'z', 'xx', 'yy', 'zz', 'xxx', 'yyy', 'zzz', 'xxxx', 'yyyy', 'zzzz']\n",
      "[[2], [3], [4], [3], [4], [5], [4], [5], [6]]\n",
      "[[2, 3, 4, 5], [3, 4, 5, 6], [4, 5, 6, 7], [5, 6, 7, 8]]\n",
      "[(1, 1), (1, 2), (1, 3), (2, 1), (2, 2), (2, 3), (3, 1), (3, 2), (3, 3)]\n"
     ]
    }
   ],
   "source": [
    "#First List\n",
    "my_lst1=['x','y','z']\n",
    "my_lst2=[x*n for x in my_lst1 for n in range(1,5)]\n",
    "print(my_lst2)\n",
    "\n",
    "#Second List\n",
    "m_lst1=['x','y','z']\n",
    "m_lst2=[x*n for n in range(1,5) for x in m_lst1]\n",
    "print(m_lst2)\n",
    "\n",
    "#Third List\n",
    "lst1=[2,3,4]\n",
    "lst1=[[x+n] for x in lst1 for n in range(0,3)]\n",
    "print(lst1)\n",
    "\n",
    "#Fourth List\n",
    "list1=[2,3,4,5]\n",
    "list2=[[x+n for x in list1] for n in range(0,4)]\n",
    "print(list2)\n",
    "\n",
    "#Fifth List\n",
    "m_list1=[1,2,3]\n",
    "m_list2=[(x,n) for x in m_list1 for n in range(1,4)]\n",
    "print(m_list2)"
   ]
  }
 ],
 "metadata": {
  "kernelspec": {
   "display_name": "Python 3",
   "language": "python",
   "name": "python3"
  },
  "language_info": {
   "codemirror_mode": {
    "name": "ipython",
    "version": 3
   },
   "file_extension": ".py",
   "mimetype": "text/x-python",
   "name": "python",
   "nbconvert_exporter": "python",
   "pygments_lexer": "ipython3",
   "version": "3.7.4"
  }
 },
 "nbformat": 4,
 "nbformat_minor": 2
}
