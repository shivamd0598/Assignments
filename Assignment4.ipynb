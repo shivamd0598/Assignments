{
 "cells": [
  {
   "cell_type": "markdown",
   "metadata": {},
   "source": [
    "1.1 Write a Python Program(with class concepts) to find the area of the triangle using the below\n",
    "formula.\n",
    "area = (s*(s-a)*(s-b)*(s-c)) ** 0.5\n",
    "Function to take the length of the sides of triangle from user should be defined in the parent\n",
    "class and function to calculate the area should be defined in subclass."
   ]
  },
  {
   "cell_type": "code",
   "execution_count": 63,
   "metadata": {},
   "outputs": [
    {
     "name": "stdout",
     "output_type": "stream",
     "text": [
      "Enter the first side: 5\n",
      "Enter the second side: 6\n",
      "Enter the third side: 8\n",
      "The area of triangle is: 14.981238266578634\n"
     ]
    }
   ],
   "source": [
    "class Triangle:\n",
    "    def __init__(self):\n",
    "        no_sides=['a','b','c']\n",
    "        self.triangle_sides=no_sides\n",
    "                  \n",
    "    def takeInput(self):\n",
    "                  self.sides_triangle=[input(\"Enter the side \"+i+\" :\") for i in self.triangle_sides]\n",
    "                  \n",
    "class Triangle_Area(Triangle):\n",
    "    def __init__(self):\n",
    "        Triangle.__init__(self)\n",
    "    def areaTriangle(self):\n",
    "        sides_Triangle=iter(self.sides_triangle)\n",
    "        a=float(next(sides_Triangle))\n",
    "        b=float(next(sides_Triangle))\n",
    "        c=float(next(sides_Triangle))\n",
    "        s=(a+b+c)/2\n",
    "        area = (s*(s-a)*(s-b)*(s-c)) ** 0.5\n",
    "        print(\"The sides of triangle are a=\"+str(a)+\", b=\"+str(b)+\", c=\"+str(c))     \n",
    "        print(\"The area of triangle is:\",area)\n",
    "                    \n",
    "ob=Triangle_Area()\n",
    "ob.takeInput()\n",
    "ob.areaTriangle()\n",
    "\n",
    "\n",
    "        "
   ]
  },
  {
   "cell_type": "markdown",
   "metadata": {},
   "source": [
    "1.2 Write a function filter_long_words() that takes a list of words and an integer n and returns\n",
    "the list of words that are longer than n."
   ]
  },
  {
   "cell_type": "code",
   "execution_count": 62,
   "metadata": {},
   "outputs": [
    {
     "name": "stdout",
     "output_type": "stream",
     "text": [
      "Enter the number: 5\n",
      "['Shivam', 'APS Kaluchak']\n"
     ]
    }
   ],
   "source": [
    "word_lst=[\"Shivam\",\"Dhar\",\"Delhi\",\"APS Kaluchak\",\"MSIT\"]\n",
    "n=int(input(\"Enter the number: \"))\n",
    "filter_long_word(word_lst,n)\n",
    "\n",
    "def filter_long_word(word_lst,n):\n",
    "    new_word_lst=[]\n",
    "    for i in range(len(word_lst)):\n",
    "        if len(word_lst[i]) > n:\n",
    "            word=word_lst[i]\n",
    "            new_word_lst.append(word)\n",
    "            \n",
    "    print(new_word_lst)"
   ]
  },
  {
   "cell_type": "markdown",
   "metadata": {},
   "source": [
    "2.1 Write a Python program using function concept that maps list of words into a list of integers\n",
    "representing the lengths of the corresponding words.\n",
    "\n",
    "**Hint: If a list [ ab,cde,erty] is passed on to the python function output should come as [2,3,4]\n",
    "Here 2,3 and 4 are the lengths of the words in the list.**\n"
   ]
  },
  {
   "cell_type": "code",
   "execution_count": 66,
   "metadata": {},
   "outputs": [
    {
     "name": "stdout",
     "output_type": "stream",
     "text": [
      "List of words:['Shivam', 'Dhar', 'MSIT', 'Delhi', 'Army Public School']\n",
      "List of wordlength:[6, 4, 4, 5, 18]\n"
     ]
    }
   ],
   "source": [
    "listOfWords = ['Shivam','Dhar','MSIT','Delhi','Army Public School']\n",
    " \n",
    "listOfInts = []\n",
    " \n",
    "for i in range(len(listOfWords)):\n",
    "    listOfInts.append(len(listOfWords[i]))\n",
    "    \n",
    "print(\"List of words:\"+str(listOfWords))\n",
    "print (\"List of wordlength:\"+str(listOfInts))"
   ]
  },
  {
   "cell_type": "markdown",
   "metadata": {},
   "source": [
    "2.2 Write a Python function which takes a character (i.e. a string of length 1) and returns True if\n",
    "it is a vowel, False otherwise."
   ]
  },
  {
   "cell_type": "code",
   "execution_count": 4,
   "metadata": {},
   "outputs": [
    {
     "name": "stdout",
     "output_type": "stream",
     "text": [
      "Input Value: \n",
      "Enter a character: B\n",
      "Output Valkue:  False\n"
     ]
    }
   ],
   "source": [
    "def vowel_Check(ipchar):\n",
    "    vowel_val=''\n",
    "    \n",
    "    if(len(ipchar)==1):\n",
    "        vowel_lst=['a','e','i','o','u']\n",
    "        \n",
    "        if(ipchar.lower() in vowel_lst):\n",
    "            vowel_val=True\n",
    "            \n",
    "        else:\n",
    "            vowel_val=False\n",
    "            \n",
    "    return vowel_val\n",
    "\n",
    "print(\"Input Value: \")\n",
    "ipchar=input(\"Enter a character: \")\n",
    "\n",
    "opval=vowel_Check(ipchar)\n",
    "print(\"Output Valkue: \",opval)"
   ]
  }
 ],
 "metadata": {
  "kernelspec": {
   "display_name": "Python 3",
   "language": "python",
   "name": "python3"
  },
  "language_info": {
   "codemirror_mode": {
    "name": "ipython",
    "version": 3
   },
   "file_extension": ".py",
   "mimetype": "text/x-python",
   "name": "python",
   "nbconvert_exporter": "python",
   "pygments_lexer": "ipython3",
   "version": "3.7.4"
  }
 },
 "nbformat": 4,
 "nbformat_minor": 2
}
